{
  "cells": [
    {
      "cell_type": "markdown",
      "source": [
        "### Participantes\n",
        "- Leidy Jaramillo Parra\n",
        "- Lucero Zarate Herrera\n",
        "- Víctor Echavarría Hernandez\n"
      ],
      "metadata": {
        "id": "YO8gTZqHh3Og"
      }
    },
    {
      "cell_type": "markdown",
      "metadata": {
        "id": "7vGMRorix7fJ"
      },
      "source": [
        "# **Prueba \\#1**\n",
        "\n",
        "En la siguiente pureba se evalua de manera EXCLUSIVA lo que se solicita, cualquier otra respuesta adicional a ella será valorada, más no evaluada. Entregue la prueba en un repositorio de github antes de el lunes 7 de agosto a las 06:59:59.\n",
        "\n"
      ]
    },
    {
      "cell_type": "markdown",
      "metadata": {
        "id": "2JiTz8I9yhXB"
      },
      "source": [
        "## **Ejercicio 1** (50 pts)\n",
        "\n",
        "Escriba una clase `Pedido` que pueda ser usada para gestionar la información de los pedidos realizados a una pastelería (o carnicería o tienda de ropa o empresa que ud desee). Evite usar módulos como numpy, pandas o cualquier otro.\n",
        "\n",
        "### **Rubrica**:\n",
        "\n",
        "1. Generación de la clase que funcione correctamente con al menos 2 métodos y 2 atributos. **30 pts**.\n",
        "2. Comentarios y  documentación que sirva para quien deba usar la clase. **5 pts**.\n",
        "3. Pertinencia de la clase en el ámbito, ¿Por qué será útil esta herramienta y cómo ayudará a mejorar el negocio? esta será entregada en una celda de texto. **10 pts**.\n",
        "4. ¿Cree que se pueda construir una clase hija que ayude al proceso? Si sí constrúyala, sino, argumente por qué en una célda de código. **5 pts**."
      ]
    },
    {
      "cell_type": "code",
      "execution_count": 31,
      "metadata": {
        "id": "AgwS8cBnx5Zc",
        "colab": {
          "base_uri": "https://localhost:8080/"
        },
        "outputId": "332fba5e-cbf6-426b-98c5-45202b50f174"
      },
      "outputs": [
        {
          "output_type": "stream",
          "name": "stdout",
          "text": [
            "Total por producto: {'pan': 4000}\n",
            "Total Pedido: 4000\n"
          ]
        }
      ],
      "source": [
        "class Pedido:\n",
        "    \"\"\"\n",
        "    Clase que permite tomar un pedido, agregar un producto y realizar el calculo del total de pedido\n",
        "\n",
        "    argumentos:\n",
        "    id_pedido (int): Codigo del pedido\n",
        "    cliente (string): Nombre del cliente\n",
        "    total (int): Total del pedido\n",
        "    \"\"\"\n",
        "\n",
        "    total_pedidos = 0  # Variable inicializada en cero para contar el número de pedidos\n",
        "    def __init__(self, id_pedido, cliente, total):\n",
        "        self.id_pedido = id_pedido\n",
        "        self.cliente = cliente\n",
        "        self.total = total\n",
        "        self.productos = []\n",
        "        Pedido.total_pedidos += 1\n",
        "\n",
        "    def agregar_producto(self, producto, cantidad):\n",
        "        \"\"\"\n",
        "        Metodo que permite agregar un producto al pedido\n",
        "\n",
        "        argumentos:\n",
        "        producto: Objeto de la clase Producto\n",
        "        cantidad: Cantidad del producto a agregar al pedido\n",
        "        \"\"\"\n",
        "\n",
        "        self.productos.append((producto, cantidad))\n",
        "\n",
        "    def calcular_total_pedido(self):\n",
        "        \"\"\"\n",
        "        Metodo que permite calcular el total del pedido y el costo de los productos agregados\n",
        "\n",
        "        Return\n",
        "        - total_pedido: Total productos finales\n",
        "        - total_por_producto: Total por producto\n",
        "        \"\"\"\n",
        "\n",
        "        total_pedido = self.total\n",
        "        total_por_producto = {}  # Diccionario para almacenar el total por producto\n",
        "        for producto, cantidad in self.productos:\n",
        "            total_producto = producto.precio * cantidad\n",
        "            total_pedido += total_producto\n",
        "            total_por_producto[producto.nombre] = total_producto  # Agregar al diccionario\n",
        "        return total_pedido, total_por_producto\n",
        "\n",
        "class Producto:\n",
        "  \"\"\"\n",
        "  Clase que representa un producto, recibe el nombre del producto y su precio\n",
        "\n",
        "  \"\"\"\n",
        "  def __init__(self,nombre, precio):\n",
        "    self.nombre = nombre\n",
        "    self.precio = precio\n",
        "\n",
        "\n",
        "class PedidoPasteleria(Pedido):\n",
        "\n",
        "  \"\"\"\n",
        "  Clase hija PedidoPasteleria que recibe de la clase Padre Pedido, representa un pedido especifico de la pasteleria\n",
        "\n",
        "  Argumentos:\n",
        "  idpedido: Identificador del pedido\n",
        "  cliente: Nombre del cliente\n",
        "  Total: Total inicial del pedido\n",
        "  \"\"\"\n",
        "  total_pedidos_pasteleria = 0\n",
        "  def __init__(self, id_pedido, cliente, total):\n",
        "        super().__init__(id_pedido, cliente, total)\n",
        "        PedidoPasteleria.total_pedidos_pasteleria += 1\n",
        "\n",
        "\n",
        "# Listado de productos\n",
        "producto1 = Producto(\"pan\", 2000)\n",
        "producto2 = Producto(\"Torta\", 1000)\n",
        "\n",
        "# Pedidos realizados a las pasteleria\n",
        "pedido1 = PedidoPasteleria(1, \"Sara\", 0)\n",
        "pedido1.agregar_producto(producto1, 2)\n",
        "\n",
        "# Obtiene el valor total por producto y en general del pedido\n",
        "total_pedido, total_por_producto = pedido1.calcular_total_pedido()\n",
        "print(\"Total por producto:\", total_por_producto)\n",
        "print(\"Total Pedido:\", total_pedido)\n"
      ]
    },
    {
      "cell_type": "markdown",
      "source": [
        "3. Pertinencia de la clase en el ámbito, ¿Por qué será útil esta herramienta y cómo ayudará a mejorar el negocio? esta será entregada en una celda de texto.\n",
        "R//\n",
        "Es útil porque permite calcular el total de pedidos y por producto. La clase `Pedido` al tener funcionalidades generales, permite que otros negocios las reutilicen y las adapten a la medida o a las necesidades propias del negocio. En este caso, en el contexto de un pedido a una Pasteleria.\n",
        "\n",
        "La clase hija en este caso es: `PedidoPasteleria`"
      ],
      "metadata": {
        "id": "za5mdxn7cJAQ"
      }
    },
    {
      "cell_type": "markdown",
      "metadata": {
        "id": "pnfosm2l12c5"
      },
      "source": [
        "## **Ejercicio 2** (50 pts)\n",
        "\n",
        "Realice los siguientes ejercicios con numpy\n",
        "\n",
        "1. Resolver el siguiente sistema de ecuaciones. **16 pts**\n",
        "\n",
        "$$\n",
        "2x + 3y - z + 4w + 5v = 15\n",
        "$$\n",
        "\n",
        "$$\n",
        "x - 2y + 4z - 3w + v = 6\n",
        "$$\n",
        "\n",
        "$$\n",
        "3x + 2y - 3z + 5w - 2v = 11\n",
        "$$\n",
        "\n",
        "$$\n",
        "4x + y - 2z + 3w + 2v = 8\n",
        "$$\n",
        "\n",
        "$$\n",
        "x + y + z + w + v = 7\n",
        "$$\n",
        "\n",
        "2. Calcule el valor del número de Euler o constante de Napier $e = 2,71828$ como:\n",
        "\n",
        "$$e = \\sum_i ^{\\infty} \\frac{1}{n!}$$\n",
        "\n",
        "  ¿Qué precisión en términos de el número de términos necesita para dar cuenta de los primeros 5 números de la coma decimal? **18 pts**\n",
        "\n",
        "3. Ecuentre los auto valores de la matriz.  **16 pts**\n",
        "\n",
        "$$\n",
        "\\begin{pmatrix}\n",
        "2 & 1 & 1 \\\\\n",
        "4 & 3 & 2 \\\\\n",
        "1 & 1 & 2 \\\\\n",
        "\\end{pmatrix}\n",
        "$$\n",
        "\n"
      ]
    },
    {
      "cell_type": "markdown",
      "source": [
        "### Punto 3.1"
      ],
      "metadata": {
        "id": "DExsqs__hKiz"
      }
    },
    {
      "cell_type": "code",
      "source": [
        "import numpy as np\n",
        "\n",
        "# Definimos los coeficientes del sistema de ecuaciones:\n",
        "coeficientes = np.array([\n",
        "    [2, 3, -1, 4, 5],\n",
        "    [1, -2, 4, -3, 1],\n",
        "    [3, 2, -3, 5, -2],\n",
        "    [4, 1, -2, 3, 2],\n",
        "    [1, 1, 1, 1, 1]\n",
        "])\n",
        "\n",
        "# Definimos los resultados de las ecuaciones\n",
        "resultados = np.array([15, 6, 11, 8, 7])\n",
        "\n",
        "# Para resolver el sistema de ecuaciones usamos el submódulo \"linalg\"\n",
        "# de numpy que proporciona funcionalidades de álgebra lineal y la función \"solve\"\n",
        "# que nos permite resolver el sistema de ecuaciones lineales\n",
        "\n",
        "solucion = np.linalg.solve(coeficientes, resultados)\n",
        "\n",
        "# Mostrar la solución\n",
        "print(\"La solución del sistema de ecuaciones dado es:\")\n",
        "print(\"x =\", solucion[0])\n",
        "print(\"y =\", solucion[1])\n",
        "print(\"z =\", solucion[2])\n",
        "print(\"w =\", solucion[3])\n",
        "print(\"v =\", solucion[4])"
      ],
      "metadata": {
        "colab": {
          "base_uri": "https://localhost:8080/"
        },
        "id": "snRHLoi0eSxH",
        "outputId": "6f69575b-daf2-4e94-b722-85bb7bad2b6c"
      },
      "execution_count": 35,
      "outputs": [
        {
          "output_type": "stream",
          "name": "stdout",
          "text": [
            "La solución del sistema de ecuaciones dado es:\n",
            "x = -1.6774193548387097\n",
            "y = -7.870967741935485\n",
            "z = 5.129032258064516\n",
            "w = 10.0\n",
            "v = 1.4193548387096777\n"
          ]
        }
      ]
    },
    {
      "cell_type": "markdown",
      "source": [
        "# Punto 3.2"
      ],
      "metadata": {
        "id": "QpMvXcPBhO7D"
      }
    },
    {
      "cell_type": "code",
      "execution_count": 32,
      "metadata": {
        "id": "8gu89-aP5ibM",
        "colab": {
          "base_uri": "https://localhost:8080/"
        },
        "outputId": "2398f080-b4b6-4b84-82bb-fee96d958518"
      },
      "outputs": [
        {
          "output_type": "stream",
          "name": "stdout",
          "text": [
            "Aproximación de e con 10 términos: 2.718281525573192\n"
          ]
        }
      ],
      "source": [
        "import numpy as np\n",
        "\n",
        "# Definimos la función vectorizada \"np.vectorize\" que nos permite vectorizar\n",
        "#(recibir elementos de arreglos) de una función ordinaria de python como \"np.math.factorial\" que normalmente trabaja con escalares\n",
        "# La función devolverá el factorial correspondiente para cada arreglo de números enteros\n",
        "factorial_vectorizado = np.vectorize(np.math.factorial)\n",
        "\n",
        "# Definimos la función para calcular el número de Euler\n",
        "def calcular_e(aproximaciones):\n",
        "    n = np.arange(aproximaciones)  # la función \"arange\" crea un arreglo de 0 a aproximaciones - 1 con un paso de 1\n",
        "    factoriales = factorial_vectorizado(n)  # Calcular el factorial de cada número en n con el \"n\" y el \"factorial_vectorizado\" ya definidos\n",
        "    terminos = 1 / factoriales  # Se calculan los términos de la serie\n",
        "    return np.sum(terminos)  # se suman los términos para obtener una aproximación de e\n",
        "\n",
        "# Calculamos una aproximación de e usando 10 términos de la serie\n",
        "aproximacion_e = calcular_e(10)\n",
        "print(\"Aproximación de e con 10 términos:\", aproximacion_e)"
      ]
    },
    {
      "cell_type": "markdown",
      "source": [
        "###Punto 3.3"
      ],
      "metadata": {
        "id": "iJ0uUxZzg79a"
      }
    },
    {
      "cell_type": "code",
      "source": [
        "#Defino la matriz con la que voy a trabajar\n",
        "mat = np.array([[2, 1, 1], [4, 3, 2], [1, 1, 2]])\n",
        "print(mat)"
      ],
      "metadata": {
        "colab": {
          "base_uri": "https://localhost:8080/"
        },
        "id": "sB-ZTIxgg60w",
        "outputId": "4bab6c50-80ab-41c3-cb40-7c34d4300fcb"
      },
      "execution_count": 37,
      "outputs": [
        {
          "output_type": "stream",
          "name": "stdout",
          "text": [
            "[[2 1 1]\n",
            " [4 3 2]\n",
            " [1 1 2]]\n"
          ]
        }
      ]
    },
    {
      "cell_type": "code",
      "source": [
        "# para calcular los autovalores (valores lambda) de una matriz, usamos la funcion linalg.eigvals de numpy\n",
        "autovalores = np.linalg.eigvals(mat)\n",
        "\n",
        "print(f'Los autovalores de la matriz son:',autovalores)"
      ],
      "metadata": {
        "colab": {
          "base_uri": "https://localhost:8080/"
        },
        "id": "UjSpuwmLg-_f",
        "outputId": "d5e4306f-b6bb-429b-ce00-46b98f80b8bf"
      },
      "execution_count": 38,
      "outputs": [
        {
          "output_type": "stream",
          "name": "stdout",
          "text": [
            "Los autovalores de la matriz son: [5.44948974 0.55051026 1.        ]\n"
          ]
        }
      ]
    }
  ],
  "metadata": {
    "colab": {
      "provenance": []
    },
    "kernelspec": {
      "display_name": "Python 3 (ipykernel)",
      "language": "python",
      "name": "python3"
    },
    "language_info": {
      "codemirror_mode": {
        "name": "ipython",
        "version": 3
      },
      "file_extension": ".py",
      "mimetype": "text/x-python",
      "name": "python",
      "nbconvert_exporter": "python",
      "pygments_lexer": "ipython3",
      "version": "3.10.10"
    }
  },
  "nbformat": 4,
  "nbformat_minor": 0
}